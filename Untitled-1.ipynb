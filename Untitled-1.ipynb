{
 "cells": [
  {
   "cell_type": "code",
   "execution_count": 20,
   "metadata": {},
   "outputs": [],
   "source": [
    "from typing import TextIO\n",
    "import telebot\n",
    "\n",
    "chave_api = \"Chave_API_BOT\"\n",
    "bot = telebot.TeleBot(chave_api)\n",
    "\n",
    "@bot.message_handler(commands=[\"Brasil\"])\n",
    "def brasil(mensagem):\n",
    "    bot.send_message(mensagem.chat.id, \"É claro que é o Mengão malvadão!\")\n",
    "\n",
    "@bot.message_handler(commands=[\"Espanha\"])\n",
    "def espanha(mensagem):\n",
    "    bot.send_message(mensagem.chat.id, \"O que tem mais champions, Real Madrid\")\n",
    "\n",
    "@bot.message_handler(commands=[\"Inglaterra\"])\n",
    "def inglaterra(mensagem):\n",
    "    bot.send_message(mensagem.chat.id, \"O que tem mais história na capital, Manchester United!\")\n",
    "\n",
    "\n",
    "@bot.message_handler(commands=[\"Contar_piada\"])\n",
    "def op1(mensagem):\n",
    "    bot.send_message(mensagem.chat.id, \"\"\"Porque o pintinho atravessou a rua??? \n",
    "    \n",
    "    \n",
    "    Para chegar do outro lado!\n",
    "    K K K K K K K K K K K K K\"\"\")\n",
    "\n",
    "@bot.message_handler(commands=[\"Qual_o_melhor_time\"])\n",
    "def op2(mensagem):\n",
    "    texto2 = \"\"\"Selecione de qual país:\n",
    "            /Brasil\n",
    "            /Espanha\n",
    "            /Inglaterra\"\"\"\n",
    "    bot.send_message(mensagem.chat.id, texto2)\n",
    "\n",
    "\n",
    "@bot.message_handler(commands=[\"Mandar_um_abraco\"])\n",
    "def op3(mensagem):\n",
    "    bot.send_message(mensagem.chat.id, \"Valeu, o Tuttuzera mandou um abraço de volta, TMJ!\")\n",
    "\n",
    "@bot.message_handler(commands=[\"Mensagem_inspiradora\"])\n",
    "def op4(mensagem):\n",
    "    bot.send_message(mensagem.chat.id, \"Quanto maior o teste, maior a recomendação!\")\n",
    "\n",
    "\n",
    "def verificar(mensagem):\n",
    "    return True\n",
    "\n",
    "@bot.message_handler(func=verificar)\n",
    "def talk(mensagem):\n",
    "    texto=\"\"\"Olá, aqui é o bot de teste do Tuttuzera! Escolha uma opção ou clique no item!\n",
    "            /Contar_piada\n",
    "            /Qual_o_melhor_time\n",
    "            /Mandar_um_abraco\n",
    "            /Mensagem_inspiradora\n",
    "            Responder qualquer outra coisa não vai funcionar, escolha uma das opções!\"\"\"\n",
    "    bot.reply_to(mensagem, texto)\n",
    "\n",
    "\n",
    "bot.polling()"
   ]
  }
 ],
 "metadata": {
  "kernelspec": {
   "display_name": "Python 3.10.5 64-bit",
   "language": "python",
   "name": "python3"
  },
  "language_info": {
   "codemirror_mode": {
    "name": "ipython",
    "version": 3
   },
   "file_extension": ".py",
   "mimetype": "text/x-python",
   "name": "python",
   "nbconvert_exporter": "python",
   "pygments_lexer": "ipython3",
   "version": "3.10.5"
  },
  "orig_nbformat": 4,
  "vscode": {
   "interpreter": {
    "hash": "aee8b7b246df8f9039afb4144a1f6fd8d2ca17a180786b69acc140d282b71a49"
   }
  }
 },
 "nbformat": 4,
 "nbformat_minor": 2
}
